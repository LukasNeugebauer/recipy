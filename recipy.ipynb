{
 "cells": [
  {
   "cell_type": "markdown",
   "metadata": {},
   "source": [
    "# Cutting the crap and getting recipes from blogs"
   ]
  },
  {
   "cell_type": "code",
   "execution_count": 16,
   "metadata": {},
   "outputs": [],
   "source": [
    "from bs4 import BeautifulSoup\n",
    "import requests\n",
    "import json\n",
    "import webbrowser\n",
    "import os"
   ]
  },
  {
   "cell_type": "code",
   "execution_count": 1,
   "metadata": {},
   "outputs": [],
   "source": [
    "url = 'https://therecipecritic.com/korean-ground-beef-rice-bowls/'\n",
    "url2 = 'https://therecipecritic.com/ground-beef-enchiladas/'"
   ]
  },
  {
   "cell_type": "code",
   "execution_count": 3,
   "metadata": {},
   "outputs": [],
   "source": [
    "def _get_html_parser(url):\n",
    "    html = requests.get(url).text\n",
    "    soup = BeautifulSoup(html, 'html.parser')\n",
    "    return soup"
   ]
  },
  {
   "cell_type": "code",
   "execution_count": 4,
   "metadata": {},
   "outputs": [],
   "source": [
    "soup = _get_html_parser(url)"
   ]
  },
  {
   "cell_type": "code",
   "execution_count": 5,
   "metadata": {},
   "outputs": [],
   "source": [
    "def _get_recipe_tag(parser):\n",
    "    scripts = parser.find_all('script')\n",
    "    for sc in scripts:\n",
    "        if 'yoast-schema-graph' in sc.get_attribute_list('class'):\n",
    "            return sc\n",
    "    raise RuntimeError('Couldn\\'t find recipe tag in html.')\n",
    "    "
   ]
  },
  {
   "cell_type": "code",
   "execution_count": 6,
   "metadata": {},
   "outputs": [],
   "source": [
    "tag = _get_recipe_tag(soup)"
   ]
  },
  {
   "cell_type": "code",
   "execution_count": 7,
   "metadata": {},
   "outputs": [],
   "source": [
    "def _get_recipe_dict(tag):\n",
    "    _json = json.loads(tag.string)['@graph']\n",
    "    _recipe = list(filter(lambda x: x['@type'] == 'Recipe', _json))[0]\n",
    "    if not _recipe:\n",
    "        raise RuntimeError('Couldn\\'t find recipe dictionary in json.')\n",
    "    return _recipe"
   ]
  },
  {
   "cell_type": "code",
   "execution_count": 44,
   "metadata": {},
   "outputs": [],
   "source": [
    "recipe = _get_recipe_dict(tag)"
   ]
  },
  {
   "cell_type": "code",
   "execution_count": 45,
   "metadata": {},
   "outputs": [],
   "source": [
    "def _parse_recipe(_recipe):\n",
    "    recipe = {\n",
    "        new: _recipe[old] for old, new in zip(\n",
    "            ['name', 'image', 'recipeIngredient', 'recipeInstructions'],\n",
    "            ['title', 'images', 'ingredients', 'instructions']\n",
    "        ) if old in _recipe.keys()\n",
    "    }\n",
    "    recipe['instructions'] = [x['text'] for x in recipe['instructions']]\n",
    "    return recipe\n",
    "    "
   ]
  },
  {
   "cell_type": "code",
   "execution_count": 46,
   "metadata": {},
   "outputs": [],
   "source": [
    "recipe = _parse_recipe(recipe)"
   ]
  },
  {
   "cell_type": "code",
   "execution_count": 47,
   "metadata": {},
   "outputs": [
    {
     "data": {
      "text/plain": [
       "{'title': 'Korean Ground Beef and Rice Bowls',\n",
       " 'images': ['https://therecipecritic.com/wp-content/uploads/2017/04/0C4A8325-4.jpg',\n",
       "  'https://therecipecritic.com/wp-content/uploads/2017/04/0C4A8325-4-500x500.jpg',\n",
       "  'https://therecipecritic.com/wp-content/uploads/2017/04/0C4A8325-4-500x375.jpg',\n",
       "  'https://therecipecritic.com/wp-content/uploads/2017/04/0C4A8325-4-480x270.jpg'],\n",
       " 'ingredients': ['1 pound lean ground beef (90% lean)',\n",
       "  '3  garlic cloves (minced)',\n",
       "  '1/4 cup packed brown sugar',\n",
       "  '1/4 cup reduced-sodium soy sauce',\n",
       "  '2 teaspoons sesame oil',\n",
       "  '1/4 teaspoon ground ginger',\n",
       "  '1/4 teaspoon crushed red pepper flakes',\n",
       "  '1/4 teaspoon pepper',\n",
       "  '2 cups hot cooked white or brown rice',\n",
       "  'sliced green onions and sesame seeds for garnish'],\n",
       " 'instructions': ['In a large skillet  cook the ground beef and garlic breaking it into crumbles over medium heat until no longer pink.',\n",
       "  'In a small bowl whisk brown sugar, soy sauce, sesame oil, ginger, red pepper flakes and pepper. Pour over the ground beef and let simmer for another minute or two.',\n",
       "  'Serve over hot rice and garnish with green onions and sesame seeds.']}"
      ]
     },
     "execution_count": 47,
     "metadata": {},
     "output_type": "execute_result"
    }
   ],
   "source": [
    "from "
   ]
  },
  {
   "cell_type": "code",
   "execution_count": 59,
   "metadata": {},
   "outputs": [],
   "source": [
    "from ipdb import set_trace"
   ]
  },
  {
   "cell_type": "code",
   "execution_count": 91,
   "metadata": {},
   "outputs": [],
   "source": [
    "def _write_html(recipe, file = None, folder = None):\n",
    "    if file is None:\n",
    "        file = '_'.join(recipe['title'].split( ))\n",
    "    if not file.endswith('.html'):\n",
    "        file += '.html'\n",
    "    if folder is None:\n",
    "        folder = os.getcwd()\n",
    "    filename = os.path.join(folder,file)\n",
    "    scaffolding = \"\"\"<html>\n",
    "    <head>\n",
    "    <title>{}</title>\n",
    "    </head>\n",
    "    <body>\n",
    "    <h1>{}</h1>\n",
    "    {}\n",
    "    </body>\n",
    "    </html> \n",
    "    \"\"\".format(recipe['title'], recipe['title'],'{}')\n",
    "    ingredients = (\n",
    "        \"<h2>Ingredients</h2>\" + \n",
    "        \"\\n\".join([\"<p>{}</p>\".format(x) for x in recipe['ingredients']])\n",
    "    ) if 'ingredients' in recipe.keys() else \"\"\n",
    "    instructions =(\n",
    "        \"<h2>Instructions</h2>\" + \n",
    "        \"\\n\".join([\"<p>{}</p>\".format(x) for x in recipe['instructions']])\n",
    "    ) if 'istructions' in recipe.keys() else \"\"\n",
    "    image = \"<img src=\\\"{}\\\">\".format(recipe['images'][0]) if 'images' in recipe.keys() else \"\"\n",
    "    with open(os.path.join(filename), 'w') as f:\n",
    "        f.write(\n",
    "            scaffolding.format(\n",
    "                ingredients +\n",
    "                instructions +\n",
    "                image\n",
    "            )\n",
    "        )\n",
    "    return filename"
   ]
  },
  {
   "cell_type": "code",
   "execution_count": 92,
   "metadata": {},
   "outputs": [],
   "source": [
    "html = _write_html(recipe)"
   ]
  },
  {
   "cell_type": "code",
   "execution_count": 93,
   "metadata": {},
   "outputs": [],
   "source": [
    "def _open_html(html):\n",
    "    webbrowser.open(html)"
   ]
  },
  {
   "cell_type": "code",
   "execution_count": 94,
   "metadata": {},
   "outputs": [],
   "source": [
    "_open_html(html)"
   ]
  },
  {
   "cell_type": "code",
   "execution_count": 21,
   "metadata": {},
   "outputs": [],
   "source": [
    "def givemethedamnrecipe(url, folder = None, file = None):\n",
    "    parser = _get_html_parser(url)\n",
    "    tag = _get_recipe_tag(parser)\n",
    "    recipe = _get_recipe_dict(tag)\n",
    "    html = _write_html(_parse_recipe(recipe))\n",
    "    _open_html(html)"
   ]
  },
  {
   "cell_type": "code",
   "execution_count": 6,
   "metadata": {},
   "outputs": [],
   "source": [
    "url = 'https://therecipecritic.com/korean-ground-beef-rice-bowls/'\n",
    "url2 = 'https://therecipecritic.com/ground-beef-enchiladas/'\n",
    "url3 = 'https://therecipecritic.com/slow-cooker-beef-bourguignon/'"
   ]
  },
  {
   "cell_type": "code",
   "execution_count": 22,
   "metadata": {},
   "outputs": [
    {
     "name": "stdout",
     "output_type": "stream",
     "text": [
      "HTML file created at /home/lukas/Documents/code/python/recipy/Korean_Ground_Beef_and_Rice_Bowls.html\n",
      "HTML file created at /home/lukas/Documents/code/python/recipy/Salsa_Verde_Beef_and_Mushroom_Enchiladas.html\n",
      "HTML file created at /home/lukas/Documents/code/python/recipy/Slow_Cooker_Beef_Bourguignon.html\n"
     ]
    }
   ],
   "source": [
    "givemethedamnrecipe(url)\n",
    "givemethedamnrecipe(url2)\n",
    "givemethedamnrecipe(url3)"
   ]
  }
 ],
 "metadata": {
  "kernelspec": {
   "display_name": "Python 3",
   "language": "python",
   "name": "python3"
  },
  "language_info": {
   "codemirror_mode": {
    "name": "ipython",
    "version": 3
   },
   "file_extension": ".py",
   "mimetype": "text/x-python",
   "name": "python",
   "nbconvert_exporter": "python",
   "pygments_lexer": "ipython3",
   "version": "3.7.6"
  }
 },
 "nbformat": 4,
 "nbformat_minor": 4
}
